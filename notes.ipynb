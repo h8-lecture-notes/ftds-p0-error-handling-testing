{
 "cells": [
  {
   "cell_type": "markdown",
   "metadata": {},
   "source": [
    "# Exception Handling & Unit Testing"
   ]
  },
  {
   "cell_type": "markdown",
   "metadata": {},
   "source": [
    "## Error & Exception"
   ]
  },
  {
   "cell_type": "markdown",
   "metadata": {},
   "source": [
    "- an **error** is an issue in a program that prevents the program from running. Example: `SyntaxError`\n",
    "- an **exception** is a condition that interrupts the flow of the program. Examples: `IndexError, TypeError, etc.`\n",
    "\n",
    "references: https://www.datacamp.com/tutorial/exception-handling-python"
   ]
  },
  {
   "cell_type": "markdown",
   "metadata": {},
   "source": [
    "## Exception/Error Handling"
   ]
  },
  {
   "cell_type": "markdown",
   "metadata": {},
   "source": [
    "![](https://images.datacamp.com/image/upload/v1677233590/try%20except%20else%20in%20Python.png)"
   ]
  },
  {
   "cell_type": "markdown",
   "metadata": {},
   "source": [
    "in exception handling, there is also a `finally` keyword that always executed, irrespective of whether there is an exception or not.\n",
    "![](https://images.datacamp.com/image/upload/v1677233778/try%20except%20else%20finally%20in%20Python.png)"
   ]
  },
  {
   "cell_type": "code",
   "execution_count": null,
   "metadata": {},
   "outputs": [],
   "source": [
    "# Example\n",
    "x = [5,8,9,13]\n",
    "\n",
    "def find_nth_value(x,n):\n",
    "    try:\n",
    "        result = x[n]\n",
    "    except IndexError as err:\n",
    "        print(err)\n",
    "    else:\n",
    "        print(\"Your answer is \", result)\n",
    "\n",
    "# case 1\n",
    "print(\"Case 1:\")\n",
    "find_nth_value(x,6)\n",
    "\n",
    "# case 2\n",
    "print(\"Case 2:\")\n",
    "find_nth_value(x,2)"
   ]
  },
  {
   "cell_type": "markdown",
   "metadata": {},
   "source": [
    "## Unit Testing"
   ]
  },
  {
   "cell_type": "markdown",
   "metadata": {},
   "source": [
    "- A unit test is like a little exam for the smallest parts of your code—usually individual functions or methods. \n",
    "- It checks if each part (unit) works as expected in isolation.\n",
    "\n",
    "Format:\n",
    "```python\n",
    "# import unittest package\n",
    "import unittest\n",
    "\n",
    "# define unit test class\n",
    "class <classNameForTesting>(unittest.TestCase):\n",
    "    # define test case (methods)\n",
    "    def <testCaseName>(self):\n",
    "        # statement unit test\n",
    "\n",
    "# to run unit test\n",
    "if __name__=='__main__':\n",
    "    unittest.main()\n",
    "```"
   ]
  },
  {
   "cell_type": "code",
   "execution_count": null,
   "metadata": {},
   "outputs": [],
   "source": [
    "# code here"
   ]
  },
  {
   "cell_type": "markdown",
   "metadata": {},
   "source": [
    "## Other References"
   ]
  },
  {
   "cell_type": "markdown",
   "metadata": {},
   "source": [
    "- FTDS Colab https://colab.research.google.com/github/FTDS-learning-materials/phase-0/blob/main/w1/P0W1D4PM_Exception_Handling_and_Testing.ipynb"
   ]
  }
 ],
 "metadata": {
  "kernelspec": {
   "display_name": "base",
   "language": "python",
   "name": "python3"
  },
  "language_info": {
   "codemirror_mode": {
    "name": "ipython",
    "version": 3
   },
   "file_extension": ".py",
   "mimetype": "text/x-python",
   "name": "python",
   "nbconvert_exporter": "python",
   "pygments_lexer": "ipython3",
   "version": "3.11.4"
  }
 },
 "nbformat": 4,
 "nbformat_minor": 2
}
