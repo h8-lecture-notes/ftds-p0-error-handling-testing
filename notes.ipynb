{
 "cells": [
  {
   "cell_type": "markdown",
   "metadata": {},
   "source": [
    "# Exception Handling & Unit Testing"
   ]
  },
  {
   "cell_type": "markdown",
   "metadata": {},
   "source": [
    "## Error & Exception"
   ]
  },
  {
   "cell_type": "markdown",
   "metadata": {},
   "source": [
    "- an **error** is an issue in a program that prevents the program from running. Example: `SyntaxError`\n",
    "- an **exception** is a condition that interrupts the flow of the program. Examples: `IndexError, TypeError, etc.`\n",
    "\n",
    "references: https://www.datacamp.com/tutorial/exception-handling-python"
   ]
  },
  {
   "cell_type": "markdown",
   "metadata": {},
   "source": [
    "## How to Handle Error"
   ]
  },
  {
   "cell_type": "markdown",
   "metadata": {},
   "source": [
    "Using `try - except` block.\n",
    "```py\n",
    "try:\n",
    "    # execute code that has a potential to generate an error\n",
    "except:\n",
    "    # handle when error occured\n",
    "else: # -> optional\n",
    "    # handle when error not occured\n",
    "finally: # -> optional\n",
    "    # always execute code whether error has occured or not\n",
    "```"
   ]
  },
  {
   "cell_type": "markdown",
   "metadata": {},
   "source": [
    "![](https://images.datacamp.com/image/upload/v1677233778/try%20except%20else%20finally%20in%20Python.png)"
   ]
  },
  {
   "cell_type": "markdown",
   "metadata": {},
   "source": [
    "## Unit Testing"
   ]
  },
  {
   "cell_type": "markdown",
   "metadata": {},
   "source": [
    "- A unit test is like a little exam for the smallest parts of your code—usually individual functions or methods. \n",
    "- It checks if each part (unit) works as expected in isolation.\n",
    "\n",
    "Format:\n",
    "```python\n",
    "# import unittest package\n",
    "import unittest\n",
    "\n",
    "# define unit test class\n",
    "class <classNameForTesting>(unittest.TestCase):\n",
    "    # define test case (methods)\n",
    "    def <testCaseName>(self):\n",
    "        # statement unit test\n",
    "\n",
    "# to run unit test\n",
    "if __name__=='__main__':\n",
    "    unittest.main()\n",
    "```"
   ]
  },
  {
   "cell_type": "markdown",
   "metadata": {},
   "source": [
    "## Other References"
   ]
  },
  {
   "cell_type": "markdown",
   "metadata": {},
   "source": [
    "- FTDS Colab https://colab.research.google.com/github/FTDS-learning-materials/phase-0/blob/main/w1/P0W1D4PM_Exception_Handling_and_Testing.ipynb"
   ]
  }
 ],
 "metadata": {
  "kernelspec": {
   "display_name": "base",
   "language": "python",
   "name": "python3"
  },
  "language_info": {
   "codemirror_mode": {
    "name": "ipython",
    "version": 3
   },
   "file_extension": ".py",
   "mimetype": "text/x-python",
   "name": "python",
   "nbconvert_exporter": "python",
   "pygments_lexer": "ipython3",
   "version": "3.12.2"
  }
 },
 "nbformat": 4,
 "nbformat_minor": 2
}
